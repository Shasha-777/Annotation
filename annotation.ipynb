{
 "cells": [
  {
   "cell_type": "code",
   "execution_count": 2,
   "metadata": {},
   "outputs": [
    {
     "name": "stdout",
     "output_type": "stream",
     "text": [
      "✅ Sample of 500 rows saved to sample_lyrics.csv\n"
     ]
    }
   ],
   "source": [
    "import pandas as pd\n",
    "\n",
    "# File paths (since CSV is in the same folder)\n",
    "input_path = \"song_lyrics.csv\"\n",
    "output_path = \"sample_lyrics.csv\"\n",
    "\n",
    "# Adjust sample size\n",
    "sample_size = 500\n",
    "\n",
    "try:\n",
    "    # Read first N rows\n",
    "    df_sample = pd.read_csv(input_path, nrows=sample_size)\n",
    "    df_sample.to_csv(output_path, index=False)\n",
    "    print(f\"✅ Sample of {sample_size} rows saved to {output_path}\")\n",
    "except Exception as e:\n",
    "    print(f\"❌ Error loading file: {e}\")\n"
   ]
  },
  {
   "cell_type": "code",
   "execution_count": 4,
   "metadata": {},
   "outputs": [
    {
     "name": "stdout",
     "output_type": "stream",
     "text": [
      "<class 'pandas.core.frame.DataFrame'>\n",
      "RangeIndex: 500 entries, 0 to 499\n",
      "Data columns (total 11 columns):\n",
      " #   Column         Non-Null Count  Dtype \n",
      "---  ------         --------------  ----- \n",
      " 0   title          500 non-null    object\n",
      " 1   tag            500 non-null    object\n",
      " 2   artist         500 non-null    object\n",
      " 3   year           500 non-null    int64 \n",
      " 4   views          500 non-null    int64 \n",
      " 5   features       500 non-null    object\n",
      " 6   lyrics         500 non-null    object\n",
      " 7   id             500 non-null    int64 \n",
      " 8   language_cld3  499 non-null    object\n",
      " 9   language_ft    499 non-null    object\n",
      " 10  language       498 non-null    object\n",
      "dtypes: int64(3), object(8)\n",
      "memory usage: 43.1+ KB\n"
     ]
    },
    {
     "data": {
      "text/plain": [
       "(None,\n",
       "                title  tag     artist  year   views  \\\n",
       " 0          Killa Cam  rap    Cam'ron  2004  173166   \n",
       " 1         Can I Live  rap      JAY-Z  1996  468624   \n",
       " 2  Forgive Me Father  rap   Fabolous  2003    4743   \n",
       " 3       Down and Out  rap    Cam'ron  2004  144404   \n",
       " 4             Fly In  rap  Lil Wayne  2005   78271   \n",
       " \n",
       "                                        features  \\\n",
       " 0                   {\"Cam\\\\'ron\",\"Opera Steve\"}   \n",
       " 1                                            {}   \n",
       " 2                                            {}   \n",
       " 3  {\"Cam\\\\'ron\",\"Kanye West\",\"Syleena Johnson\"}   \n",
       " 4                                            {}   \n",
       " \n",
       "                                               lyrics  id language_cld3  \\\n",
       " 0  [Chorus: Opera Steve & Cam'ron]\\nKilla Cam, Ki...   1            en   \n",
       " 1  [Produced by Irv Gotti]\\n\\n[Intro]\\nYeah, hah,...   3            en   \n",
       " 2  Maybe cause I'm eatin\\nAnd these bastards fien...   4            en   \n",
       " 3  [Produced by Kanye West and Brian Miller]\\n\\n[...   5            en   \n",
       " 4  [Intro]\\nSo they ask me\\n\"Young boy\\nWhat you ...   6            en   \n",
       " \n",
       "   language_ft language  \n",
       " 0          en       en  \n",
       " 1          en       en  \n",
       " 2          en       en  \n",
       " 3          en       en  \n",
       " 4          en       en  )"
      ]
     },
     "execution_count": 4,
     "metadata": {},
     "output_type": "execute_result"
    }
   ],
   "source": [
    "import pandas as pd\n",
    "\n",
    "# Load the uploaded sample lyrics file\n",
    "file_path = \"sample_lyrics.csv\"\n",
    "df = pd.read_csv(file_path)\n",
    "\n",
    "# Display basic info and first few rows\n",
    "df.info(), df.head()\n"
   ]
  },
  {
   "cell_type": "code",
   "execution_count": 6,
   "metadata": {},
   "outputs": [
    {
     "data": {
      "text/plain": [
       "'annotated_sample_template.csv'"
      ]
     },
     "execution_count": 6,
     "metadata": {},
     "output_type": "execute_result"
    }
   ],
   "source": [
    "# Load the original sample again\n",
    "df = pd.read_csv(\"sample_lyrics.csv\")\n",
    "\n",
    "# Add annotation columns with empty values for manual tagging\n",
    "df[\"genre_verified\"] = \"\"\n",
    "df[\"sentiment\"] = \"\"\n",
    "df[\"policy_flag\"] = \"\"\n",
    "df[\"theme\"] = \"\"\n",
    "df[\"annotation_notes\"] = \"\"\n",
    "\n",
    "# Save this as the annotation-ready file\n",
    "annotated_path = \"annotated_sample_template.csv\"\n",
    "df.to_csv(annotated_path, index=False)\n",
    "\n",
    "annotated_path"
   ]
  }
 ],
 "metadata": {
  "kernelspec": {
   "display_name": "Python 3",
   "language": "python",
   "name": "python3"
  },
  "language_info": {
   "codemirror_mode": {
    "name": "ipython",
    "version": 3
   },
   "file_extension": ".py",
   "mimetype": "text/x-python",
   "name": "python",
   "nbconvert_exporter": "python",
   "pygments_lexer": "ipython3",
   "version": "3.12.4"
  }
 },
 "nbformat": 4,
 "nbformat_minor": 2
}
